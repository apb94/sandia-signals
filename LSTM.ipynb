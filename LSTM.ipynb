{
 "cells": [
  {
   "cell_type": "code",
   "execution_count": 1,
   "metadata": {},
   "outputs": [],
   "source": [
    "#imports \n",
    "import os\n",
    "import h5py\n",
    "import time\n",
    "import matplotlib\n",
    "import numpy as np\n",
    "import pandas as pd\n",
    "import seaborn as sns\n",
    "from pandas import DataFrame\n",
    "import matplotlib.pyplot as plt\n",
    "from matplotlib import gridspec\n",
    "%matplotlib inline\n"
   ]
  },
  {
   "cell_type": "code",
   "execution_count": 12,
   "metadata": {},
   "outputs": [
    {
     "data": {
      "text/plain": [
       "<matplotlib.collections.PathCollection at 0x4140f72d0>"
      ]
     },
     "execution_count": 12,
     "metadata": {},
     "output_type": "execute_result"
    },
    {
     "data": {
      "image/png": "[encoded data removed]",
      "text/plain": [
       "<Figure size 640x480 with 1 Axes>"
      ]
     },
     "metadata": {},
     "output_type": "display_data"
    }
   ],
   "source": [
    "x=[231,251,278,83,220]\n",
    "y=[.936,.963,.930,.83,.943]\n",
    "plt.scatter(x,y)"
   ]
  },
  {
   "cell_type": "code",
   "execution_count": 2,
   "metadata": {},
   "outputs": [],
   "source": [
    "### Set-up - Define file location\n",
    "filename = 'N-CMAPSS_DS02-006.h5'"
   ]
  },
  {
   "cell_type": "code",
   "execution_count": 3,
   "metadata": {},
   "outputs": [
    {
     "name": "stdout",
     "output_type": "stream",
     "text": [
      "\n",
      "Operation time (min):  0.03177423333333333\n",
      "\n",
      "W shape: (6517190, 4)\n",
      "X_s shape: (6517190, 14)\n",
      "X_v shape: (6517190, 14)\n",
      "T shape: (6517190, 10)\n",
      "A shape: (6517190, 4)\n"
     ]
    }
   ],
   "source": [
    "# Time tracking, Operation time (min):  0.003\n",
    "t = time.process_time()  \n",
    "\n",
    "# Load data\n",
    "with h5py.File(filename, 'r') as hdf:\n",
    "        # Development set\n",
    "        W_dev = np.array(hdf.get('W_dev'))             # W\n",
    "        X_s_dev = np.array(hdf.get('X_s_dev'))         # X_s\n",
    "        X_v_dev = np.array(hdf.get('X_v_dev'))         # X_v\n",
    "        T_dev = np.array(hdf.get('T_dev'))             # T\n",
    "        Y_dev = np.array(hdf.get('Y_dev'))             # RUL  \n",
    "        A_dev = np.array(hdf.get('A_dev'))             # Auxiliary\n",
    "\n",
    "        # Test set\n",
    "        W_test = np.array(hdf.get('W_test'))           # W\n",
    "        X_s_test = np.array(hdf.get('X_s_test'))       # X_s\n",
    "        X_v_test = np.array(hdf.get('X_v_test'))       # X_v\n",
    "        T_test = np.array(hdf.get('T_test'))           # T\n",
    "        Y_test = np.array(hdf.get('Y_test'))           # RUL  \n",
    "        A_test = np.array(hdf.get('A_test'))           # Auxiliary\n",
    "        \n",
    "        # Varnams\n",
    "        W_var = np.array(hdf.get('W_var'))\n",
    "        X_s_var = np.array(hdf.get('X_s_var'))  \n",
    "        X_v_var = np.array(hdf.get('X_v_var')) \n",
    "        T_var = np.array(hdf.get('T_var'))\n",
    "        A_var = np.array(hdf.get('A_var'))\n",
    "        \n",
    "        # from np.array to list dtype U4/U5\n",
    "        W_var = list(np.array(W_var, dtype='U20'))\n",
    "        X_s_var = list(np.array(X_s_var, dtype='U20'))  \n",
    "        X_v_var = list(np.array(X_v_var, dtype='U20')) \n",
    "        T_var = list(np.array(T_var, dtype='U20'))\n",
    "        A_var = list(np.array(A_var, dtype='U20'))\n",
    "                          \n",
    "W = np.concatenate((W_dev, W_test), axis=0)  \n",
    "X_s = np.concatenate((X_s_dev, X_s_test), axis=0)\n",
    "X_v = np.concatenate((X_v_dev, X_v_test), axis=0)\n",
    "T = np.concatenate((T_dev, T_test), axis=0)\n",
    "Y = np.concatenate((Y_dev, Y_test), axis=0) \n",
    "A = np.concatenate((A_dev, A_test), axis=0) \n",
    "    \n",
    "print('')\n",
    "print(\"Operation time (min): \" , (time.process_time()-t)/60)\n",
    "print('')\n",
    "print (\"W shape: \" + str(W.shape))\n",
    "print (\"X_s shape: \" + str(X_s.shape))\n",
    "print (\"X_v shape: \" + str(X_v.shape))\n",
    "print (\"T shape: \" + str(T.shape))\n",
    "print (\"A shape: \" + str(A.shape))"
   ]
  },
  {
   "cell_type": "code",
   "execution_count": 4,
   "metadata": {},
   "outputs": [],
   "source": [
    "#add index columns to help in restructuring\n",
    "X_c=np.concatenate((A[:,:2],X_s,X_v),axis=1)"
   ]
  },
  {
   "cell_type": "markdown",
   "metadata": {},
   "source": [
    "# Baseline LSTM model on NCMAPSS! Reshape takes sliding windows size w from middle k timestamps (k is \"kernel\") \n"
   ]
  },
  {
   "cell_type": "code",
   "execution_count": 7,
   "metadata": {},
   "outputs": [],
   "source": [
    "#approach 3: sliding window across all flights and units, #kernel samples from each flight\n",
    "def reshape(arr,kernel,window): #recall this was built with X_c in mind!!\n",
    "    #data points are sliding windows size w\n",
    "    #first grab number of flights\n",
    "    f=0\n",
    "    for i in np.unique(arr[:,0]):\n",
    "        dub=arr[arr[:,0]==i]\n",
    "        f+=np.max(dub[:,1])\n",
    "    trim=arr[:,2:] #get rid of indices\n",
    "    k=trim.shape[1] #only after you've deleted unnecessary features!!!;\n",
    "    X=np.zeros((int(kernel*f),window,6))\n",
    "    y=np.zeros((int(kernel*f),))\n",
    "    t_ticker=0\n",
    "    from sklearn.preprocessing import MinMaxScaler\n",
    "    indexer=[2,4,6,13,17,28]\n",
    "    for i,n in enumerate(np.unique(arr[:,0])):\n",
    "        dub=arr[arr[:,0]==n] #unit\n",
    "        for j in np.unique(dub[:,1]):\n",
    "            bub=dub[dub[:,1]==j] #flight\n",
    "            sub=MinMaxScaler().fit_transform(bub)\n",
    "            #sub=dub[dub[:,1]==j]\n",
    "            #t_tocker=0\n",
    "            t_tocker=int(len(sub)//2-kernel//2)\n",
    "            for k in range(kernel):\n",
    "                rub=sub[t_tocker:(t_tocker+window),:]\n",
    "                X[t_ticker,:,:]+=rub[:,indexer] #should be dim (window,k)\n",
    "                y[t_ticker]+=len(sub)-(t_tocker+window)\n",
    "                t_ticker+=1\n",
    "                t_tocker+=1\n",
    "    return X,y"
   ]
  },
  {
   "cell_type": "code",
   "execution_count": 8,
   "metadata": {},
   "outputs": [],
   "source": [
    "X_tr,y_tr=reshape(X_c,kernel=200,window=30)"
   ]
  },
  {
   "cell_type": "code",
   "execution_count": 9,
   "metadata": {},
   "outputs": [],
   "source": [
    "#imports for LSTM\n",
    "import tensorflow\n",
    "from tensorflow import keras\n",
    "from tensorflow.keras.models import Sequential\n",
    "from tensorflow.keras.layers import LSTM, Dense"
   ]
  },
  {
   "cell_type": "code",
   "execution_count": 10,
   "metadata": {},
   "outputs": [],
   "source": [
    "from tensorflow.keras.callbacks import ModelCheckpoint\n",
    "from tensorflow.keras.metrics import MeanSquaredError,R2Score\n",
    "from tensorflow.keras.optimizers.legacy import Adam\n",
    "from tensorflow.keras.models import load_model\n",
    "\n",
    "from sklearn.metrics import r2_score, mean_squared_error, mean_absolute_error"
   ]
  },
  {
   "cell_type": "code",
   "execution_count": 11,
   "metadata": {},
   "outputs": [],
   "source": [
    "a=np.arange(len(X_tr))\n",
    "tr_ind=np.random.randint(0,len(X_tr),int(0.8*len(X_tr)))\n",
    "te_ind=np.delete(a,tr_ind)\n",
    "X_train=X_tr[tr_ind]\n",
    "y_train=y_tr[tr_ind]\n",
    "X_test=X_tr[te_ind]\n",
    "y_test=y_tr[te_ind]"
   ]
  },
  {
   "cell_type": "code",
   "execution_count": 105,
   "metadata": {},
   "outputs": [],
   "source": [
    "#construct RNN\n",
    "model=Sequential() #each xi is run of n timestamps and we are targeting RUL for each \n",
    "model.add(LSTM(100,return_sequences=True,input_shape=(X_train.shape[1],X_train.shape[2]))) #input layer\n",
    "model.add(LSTM(100,return_sequences=False)) #hidden layer\n",
    "model.add(Dense(100,'relu')) #activation function\n",
    "model.add(Dense(1,'linear')) #output\n",
    "cp=ModelCheckpoint('modelnew.h5',save_best_only=True) #to save the best model\n",
    "model.compile(loss='MeanSquaredError',optimizer=Adam(learning_rate=0.01),metrics=['R2Score']) #set the loss function optimizer and metric"
   ]
  },
  {
   "cell_type": "code",
   "execution_count": 106,
   "metadata": {},
   "outputs": [
    {
     "name": "stdout",
     "output_type": "stream",
     "text": [
      "Model: \"sequential_1\"\n",
      "_________________________________________________________________\n",
      " Layer (type)                Output Shape              Param #   \n",
      "=================================================================\n",
      " lstm_3 (LSTM)               (None, 30, 100)           42800     \n",
      "                                                                 \n",
      " lstm_4 (LSTM)               (None, 100)               80400     \n",
      "                                                                 \n",
      " dense_2 (Dense)             (None, 100)               10100     \n",
      "                                                                 \n",
      " dense_3 (Dense)             (None, 1)                 101       \n",
      "                                                                 \n",
      "=================================================================\n",
      "Total params: 133401 (521.10 KB)\n",
      "Trainable params: 133401 (521.10 KB)\n",
      "Non-trainable params: 0 (0.00 Byte)\n",
      "_________________________________________________________________\n"
     ]
    }
   ],
   "source": [
    "model.summary()"
   ]
  },
  {
   "cell_type": "code",
   "execution_count": 107,
   "metadata": {},
   "outputs": [
    {
     "name": "stdout",
     "output_type": "stream",
     "text": [
      "Epoch 1/20\n",
      "2268/2268 [==============================] - 45s 19ms/step - loss: 4903140.5000 - r2_score: -0.1274 - val_loss: 2961662.7500 - val_r2_score: 0.3239\n",
      "Epoch 2/20\n",
      "   9/2268 [..............................] - ETA: 36s - loss: 3576168.7500 - r2_score: 0.2843"
     ]
    },
    {
     "name": "stderr",
     "output_type": "stream",
     "text": [
      "/Users/alexanderbeyer/anaconda3/lib/python3.11/site-packages/keras/src/engine/training.py:3103: UserWarning: You are saving your model as an HDF5 file via `model.save()`. This file format is considered legacy. We recommend using instead the native Keras format, e.g. `model.save('my_model.keras')`.\n",
      "  saving_api.save_model(\n"
     ]
    },
    {
     "name": "stdout",
     "output_type": "stream",
     "text": [
      "2268/2268 [==============================] - 43s 19ms/step - loss: 1878283.0000 - r2_score: 0.5681 - val_loss: 1376960.5000 - val_r2_score: 0.6857\n",
      "Epoch 3/20\n",
      "2268/2268 [==============================] - 43s 19ms/step - loss: 981405.1250 - r2_score: 0.7743 - val_loss: 648957.8750 - val_r2_score: 0.8519\n",
      "Epoch 4/20\n",
      "2268/2268 [==============================] - 43s 19ms/step - loss: 542819.0000 - r2_score: 0.8752 - val_loss: 893102.5000 - val_r2_score: 0.7961\n",
      "Epoch 5/20\n",
      "2268/2268 [==============================] - 43s 19ms/step - loss: 436434.0000 - r2_score: 0.8996 - val_loss: 277767.6250 - val_r2_score: 0.9366\n",
      "Epoch 6/20\n",
      "2268/2268 [==============================] - 43s 19ms/step - loss: 340222.0625 - r2_score: 0.9218 - val_loss: 240051.3125 - val_r2_score: 0.9452\n",
      "Epoch 7/20\n",
      "2268/2268 [==============================] - 43s 19ms/step - loss: 280636.8125 - r2_score: 0.9355 - val_loss: 174105.0156 - val_r2_score: 0.9603\n",
      "Epoch 8/20\n",
      "2268/2268 [==============================] - 43s 19ms/step - loss: 295654.8438 - r2_score: 0.9320 - val_loss: 192824.8594 - val_r2_score: 0.9560\n",
      "Epoch 9/20\n",
      "2268/2268 [==============================] - 43s 19ms/step - loss: 209440.7500 - r2_score: 0.9518 - val_loss: 272876.1562 - val_r2_score: 0.9377\n",
      "Epoch 10/20\n",
      "2268/2268 [==============================] - 43s 19ms/step - loss: 211134.3906 - r2_score: 0.9515 - val_loss: 1390163.7500 - val_r2_score: 0.6827\n",
      "Epoch 11/20\n",
      "2268/2268 [==============================] - 43s 19ms/step - loss: 234040.6562 - r2_score: 0.9462 - val_loss: 203852.2969 - val_r2_score: 0.9535\n",
      "Epoch 12/20\n",
      "2268/2268 [==============================] - 42s 19ms/step - loss: 158275.4062 - r2_score: 0.9636 - val_loss: 130856.2031 - val_r2_score: 0.9701\n",
      "Epoch 13/20\n",
      "2268/2268 [==============================] - 43s 19ms/step - loss: 220334.3594 - r2_score: 0.9493 - val_loss: 252309.7656 - val_r2_score: 0.9424\n",
      "Epoch 14/20\n",
      "2268/2268 [==============================] - 43s 19ms/step - loss: 414354.0312 - r2_score: 0.9047 - val_loss: 582972.0625 - val_r2_score: 0.8669\n",
      "Epoch 15/20\n",
      "2268/2268 [==============================] - 43s 19ms/step - loss: 379669.5938 - r2_score: 0.9127 - val_loss: 275028.0312 - val_r2_score: 0.9372\n",
      "Epoch 16/20\n",
      "2268/2268 [==============================] - 43s 19ms/step - loss: 238039.2188 - r2_score: 0.9453 - val_loss: 185131.7500 - val_r2_score: 0.9577\n",
      "Epoch 17/20\n",
      "2268/2268 [==============================] - 43s 19ms/step - loss: 245982.5312 - r2_score: 0.9434 - val_loss: 201147.0625 - val_r2_score: 0.9541\n",
      "Epoch 18/20\n",
      "2268/2268 [==============================] - 43s 19ms/step - loss: 745460.5000 - r2_score: 0.8286 - val_loss: 659329.7500 - val_r2_score: 0.8495\n",
      "Epoch 19/20\n",
      "2268/2268 [==============================] - 43s 19ms/step - loss: 797198.8125 - r2_score: 0.8167 - val_loss: 535489.1250 - val_r2_score: 0.8778\n",
      "Epoch 20/20\n",
      "2268/2268 [==============================] - 43s 19ms/step - loss: 474489.5625 - r2_score: 0.8909 - val_loss: 382715.5938 - val_r2_score: 0.9126\n"
     ]
    }
   ],
   "source": [
    "model.fit(X_train,y_train,validation_split=0.3,epochs=20,callbacks=[cp]) #fit the model\n",
    "model=load_model('modelnew.h5')\n",
    "\n",
    "#X and y appear to be what I want them to be, scaled, matching.\n",
    "#something about the setup of this model?\n",
    "#worth a deep dive into the architecture\n"
   ]
  },
  {
   "cell_type": "code",
   "execution_count": 108,
   "metadata": {},
   "outputs": [
    {
     "name": "stdout",
     "output_type": "stream",
     "text": [
      "Model: \"sequential_1\"\n",
      "_________________________________________________________________\n",
      " Layer (type)                Output Shape              Param #   \n",
      "=================================================================\n",
      " lstm_3 (LSTM)               (None, 30, 100)           42800     \n",
      "                                                                 \n",
      " lstm_4 (LSTM)               (None, 100)               80400     \n",
      "                                                                 \n",
      " dense_2 (Dense)             (None, 100)               10100     \n",
      "                                                                 \n",
      " dense_3 (Dense)             (None, 1)                 101       \n",
      "                                                                 \n",
      "=================================================================\n",
      "Total params: 133401 (521.10 KB)\n",
      "Trainable params: 133401 (521.10 KB)\n",
      "Non-trainable params: 0 (0.00 Byte)\n",
      "_________________________________________________________________\n"
     ]
    }
   ],
   "source": [
    "model.summary()"
   ]
  },
  {
   "cell_type": "code",
   "execution_count": 109,
   "metadata": {},
   "outputs": [
    {
     "name": "stdout",
     "output_type": "stream",
     "text": [
      "1823/1823 [==============================] - 11s 6ms/step\n",
      "236.34453927776548 0.9678604021321221\n"
     ]
    }
   ],
   "source": [
    "preds=model.predict(X_test)\n",
    "print(mean_absolute_error(y_test,preds),r2_score(y_test,preds))"
   ]
  },
  {
   "cell_type": "code",
   "execution_count": 13,
   "metadata": {},
   "outputs": [],
   "source": [
    "#now a baseline RF regressor to compare\n",
    "#we'll take feature means across the phase and kernel\n",
    "from sklearn.ensemble import RandomForestRegressor\n",
    "from sklearn.metrics import r2_score, mean_absolute_error"
   ]
  },
  {
   "cell_type": "code",
   "execution_count": 14,
   "metadata": {},
   "outputs": [],
   "source": [
    "means=np.zeros((648,28))\n",
    "y_rf=np.zeros((648,))\n",
    "ticker=0\n",
    "indexer=[2,4,6,13,17,28]\n",
    "for i in np.unique(X_c[:,0]):\n",
    "    dub=X_c[X_c[:,0]==i]\n",
    "    tocker=0\n",
    "    for j in np.unique(dub[:,1]):\n",
    "        sub=dub[dub[:,1]==j]\n",
    "        mid=len(sub)//2\n",
    "        sub=sub[mid-500:mid+500,2:] #early phase\n",
    "        y_rf[ticker]+=len(dub)-(1000+tocker)\n",
    "        means[ticker]+=np.array(np.mean(sub,axis=0)) #feature means\n",
    "        ticker+=1\n",
    "        tocker+=1\n",
    "\n",
    "#figure out this code-should be easy. then run RF regressor on means.\n"
   ]
  },
  {
   "cell_type": "code",
   "execution_count": 15,
   "metadata": {},
   "outputs": [],
   "source": [
    "rf_model=RandomForestRegressor(n_estimators=100,max_depth=5).fit(means,y_rf)"
   ]
  },
  {
   "cell_type": "code",
   "execution_count": 16,
   "metadata": {},
   "outputs": [],
   "source": [
    "a=np.arange(len(means))\n",
    "tr_ind=np.random.randint(0,len(means),int(0.8*len(means)))\n",
    "te_ind=np.delete(a,tr_ind)\n",
    "X_train=means[tr_ind]\n",
    "y_train=y_rf[tr_ind]\n",
    "X_test=means[te_ind]\n",
    "y_test=y_rf[te_ind]"
   ]
  },
  {
   "cell_type": "code",
   "execution_count": 17,
   "metadata": {},
   "outputs": [],
   "source": [
    "preds=rf_model.predict(X_test)"
   ]
  },
  {
   "cell_type": "code",
   "execution_count": 18,
   "metadata": {},
   "outputs": [
    {
     "data": {
      "text/plain": [
       "0.7760324716718483"
      ]
     },
     "execution_count": 18,
     "metadata": {},
     "output_type": "execute_result"
    }
   ],
   "source": [
    "r2_score(y_test,preds)"
   ]
  }
 ],
 "metadata": {
  "kernelspec": {
   "display_name": "base",
   "language": "python",
   "name": "python3"
  },
  "language_info": {
   "codemirror_mode": {
    "name": "ipython",
    "version": 3
   },
   "file_extension": ".py",
   "mimetype": "text/x-python",
   "name": "python",
   "nbconvert_exporter": "python",
   "pygments_lexer": "ipython3",
   "version": "3.11.5"
  }
 },
 "nbformat": 4,
 "nbformat_minor": 2
}
